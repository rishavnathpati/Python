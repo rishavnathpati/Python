{
  "nbformat": 4,
  "nbformat_minor": 0,
  "metadata": {
    "colab": {
      "name": "Naive Baye's Classifier.ipynb",
      "provenance": []
    },
    "kernelspec": {
      "name": "python3",
      "display_name": "Python 3"
    },
    "language_info": {
      "name": "python"
    }
  },
  "cells": [
    {
      "cell_type": "code",
      "metadata": {
        "id": "VEsilMzGqD3A"
      },
      "source": [
        "import numpy as np"
      ],
      "execution_count": null,
      "outputs": []
    },
    {
      "cell_type": "code",
      "metadata": {
        "id": "fO92E8cjqkZX"
      },
      "source": [
        "class NaiveBayes:\n",
        "  def cal_mean_var(self, features, target):\n",
        "    self.mean = features.groupby(target).apply(np.mean).to_numpy()\n",
        "    self.var = features.groupby(target).apply(np.var).to_numpy()\n",
        "    return self.mean, self.var\n",
        "\n",
        "  def pdf(self, class_idx, x):\n",
        "    mean = self.mean[class_idx]\n",
        "    var = self.var[class_idx]\n",
        "    numerator = np.exp((-1/2)*((x - mean)**2) / (2 * var))\n",
        "    denominator = np.sqrt(2 * np.pi * var)\n",
        "    prob = numerator / denominator\n",
        "    return prob\n",
        "\n",
        "  def cal_prior(self, features, target):\n",
        "    self.prior = (features.groupby(target).apply(lambda x: len(x))/self.rows).to_numpy()\n",
        "    return self.prior\n",
        "\n",
        "  def cal_posterior(self, x):\n",
        "    posteriors = []\n",
        "    for i in range(self.count):\n",
        "        prior = np.log(self.prior[i]) \n",
        "        conditional = np.sum(np.log(self.pdf(i, x)))\n",
        "        posterior = prior + conditional\n",
        "        posteriors.append(posterior)\n",
        "    return self.classes[np.argmax(posteriors)]\n",
        "\n",
        "  def fit(self, features, target):\n",
        "    self.classes = np.unique(target)\n",
        "    self.count = len(self.classes)\n",
        "    self.feature_nums = features.shape[1]\n",
        "    self.rows = features.shape[0]\n",
        "\n",
        "    self.cal_mean_var(features, target)\n",
        "    self.cal_prior(features, target)\n",
        "\n",
        "  def predict(self, features):\n",
        "    preds = [self.cal_posterior(f) for f in features.to_numpy()]\n",
        "    return preds"
      ],
      "execution_count": null,
      "outputs": []
    },
    {
      "cell_type": "code",
      "metadata": {
        "id": "fptbA4bAuzUC"
      },
      "source": [
        "import pandas as pd\n",
        "iris = pd.read_csv('/content/drive/MyDrive/Data Science datasets/Iris.csv')"
      ],
      "execution_count": null,
      "outputs": []
    },
    {
      "cell_type": "code",
      "metadata": {
        "id": "pym9EMnevUSd",
        "colab": {
          "base_uri": "https://localhost:8080/",
          "height": 204
        },
        "outputId": "fa30d280-3b6a-4dbc-80a1-0f5825491317"
      },
      "source": [
        "iris.head() "
      ],
      "execution_count": null,
      "outputs": [
        {
          "output_type": "execute_result",
          "data": {
            "text/html": [
              "<div>\n",
              "<style scoped>\n",
              "    .dataframe tbody tr th:only-of-type {\n",
              "        vertical-align: middle;\n",
              "    }\n",
              "\n",
              "    .dataframe tbody tr th {\n",
              "        vertical-align: top;\n",
              "    }\n",
              "\n",
              "    .dataframe thead th {\n",
              "        text-align: right;\n",
              "    }\n",
              "</style>\n",
              "<table border=\"1\" class=\"dataframe\">\n",
              "  <thead>\n",
              "    <tr style=\"text-align: right;\">\n",
              "      <th></th>\n",
              "      <th>Id</th>\n",
              "      <th>SepalLengthCm</th>\n",
              "      <th>SepalWidthCm</th>\n",
              "      <th>PetalLengthCm</th>\n",
              "      <th>PetalWidthCm</th>\n",
              "      <th>Species</th>\n",
              "    </tr>\n",
              "  </thead>\n",
              "  <tbody>\n",
              "    <tr>\n",
              "      <th>0</th>\n",
              "      <td>1</td>\n",
              "      <td>5.1</td>\n",
              "      <td>3.5</td>\n",
              "      <td>1.4</td>\n",
              "      <td>0.2</td>\n",
              "      <td>Iris-setosa</td>\n",
              "    </tr>\n",
              "    <tr>\n",
              "      <th>1</th>\n",
              "      <td>2</td>\n",
              "      <td>4.9</td>\n",
              "      <td>3.0</td>\n",
              "      <td>1.4</td>\n",
              "      <td>0.2</td>\n",
              "      <td>Iris-setosa</td>\n",
              "    </tr>\n",
              "    <tr>\n",
              "      <th>2</th>\n",
              "      <td>3</td>\n",
              "      <td>4.7</td>\n",
              "      <td>3.2</td>\n",
              "      <td>1.3</td>\n",
              "      <td>0.2</td>\n",
              "      <td>Iris-setosa</td>\n",
              "    </tr>\n",
              "    <tr>\n",
              "      <th>3</th>\n",
              "      <td>4</td>\n",
              "      <td>4.6</td>\n",
              "      <td>3.1</td>\n",
              "      <td>1.5</td>\n",
              "      <td>0.2</td>\n",
              "      <td>Iris-setosa</td>\n",
              "    </tr>\n",
              "    <tr>\n",
              "      <th>4</th>\n",
              "      <td>5</td>\n",
              "      <td>5.0</td>\n",
              "      <td>3.6</td>\n",
              "      <td>1.4</td>\n",
              "      <td>0.2</td>\n",
              "      <td>Iris-setosa</td>\n",
              "    </tr>\n",
              "  </tbody>\n",
              "</table>\n",
              "</div>"
            ],
            "text/plain": [
              "   Id  SepalLengthCm  SepalWidthCm  PetalLengthCm  PetalWidthCm      Species\n",
              "0   1            5.1           3.5            1.4           0.2  Iris-setosa\n",
              "1   2            4.9           3.0            1.4           0.2  Iris-setosa\n",
              "2   3            4.7           3.2            1.3           0.2  Iris-setosa\n",
              "3   4            4.6           3.1            1.5           0.2  Iris-setosa\n",
              "4   5            5.0           3.6            1.4           0.2  Iris-setosa"
            ]
          },
          "metadata": {
            "tags": []
          },
          "execution_count": 137
        }
      ]
    },
    {
      "cell_type": "code",
      "metadata": {
        "id": "PCf29ZRWuos8"
      },
      "source": [
        "nb = NaiveBayes()"
      ],
      "execution_count": null,
      "outputs": []
    },
    {
      "cell_type": "code",
      "metadata": {
        "id": "utm9FffGyQY1"
      },
      "source": [
        "from sklearn.model_selection import train_test_split\n",
        "X_train, X_test, y_train, y_test = train_test_split(iris, iris['Species'], test_size = 0.3, random_state = 0)"
      ],
      "execution_count": null,
      "outputs": []
    },
    {
      "cell_type": "code",
      "metadata": {
        "id": "jBPZ9W3xyuyb"
      },
      "source": [
        "nb.fit(X_train.iloc[:,[1,2,3,4]],y_train)"
      ],
      "execution_count": null,
      "outputs": []
    },
    {
      "cell_type": "code",
      "metadata": {
        "id": "2xMWX6kz0WCd"
      },
      "source": [
        "y_pred = nb.predict(X_test.iloc[:,[1,2,3,4]])"
      ],
      "execution_count": null,
      "outputs": []
    },
    {
      "cell_type": "code",
      "metadata": {
        "colab": {
          "base_uri": "https://localhost:8080/"
        },
        "id": "P2Xyajep0qda",
        "outputId": "38df3179-e2f3-46f1-f122-a4340b5c6267"
      },
      "source": [
        "from sklearn import metrics\n",
        "score = metrics.accuracy_score(y_test, y_pred)\n",
        "score"
      ],
      "execution_count": null,
      "outputs": [
        {
          "output_type": "execute_result",
          "data": {
            "text/plain": [
              "0.9777777777777777"
            ]
          },
          "metadata": {
            "tags": []
          },
          "execution_count": 142
        }
      ]
    },
    {
      "cell_type": "code",
      "metadata": {
        "id": "Td9AbQ610_xz",
        "colab": {
          "base_uri": "https://localhost:8080/"
        },
        "outputId": "0335bdec-8674-4322-e3e5-6de51f533fed"
      },
      "source": [
        "cf = metrics.confusion_matrix(y_test, y_pred)\n",
        "cf"
      ],
      "execution_count": null,
      "outputs": [
        {
          "output_type": "execute_result",
          "data": {
            "text/plain": [
              "array([[16,  0,  0],\n",
              "       [ 0, 18,  0],\n",
              "       [ 0,  1, 10]])"
            ]
          },
          "metadata": {
            "tags": []
          },
          "execution_count": 143
        }
      ]
    }
  ]
}